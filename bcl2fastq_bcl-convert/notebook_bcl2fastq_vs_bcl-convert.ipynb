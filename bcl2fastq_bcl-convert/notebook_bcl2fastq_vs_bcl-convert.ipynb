{
 "cells": [
  {
   "cell_type": "code",
   "execution_count": 1,
   "id": "c2a947bf-7658-4c04-a2a0-d67cbcba3c50",
   "metadata": {},
   "outputs": [],
   "source": [
    "import matplotlib.pyplot as plt\n",
    "import pandas as pd\n",
    "import seaborn as sns\n",
    "import numpy as np"
   ]
  },
  {
   "cell_type": "markdown",
   "id": "d2ffcfb6-3c46-4520-890d-9062e13d901f",
   "metadata": {
    "tags": []
   },
   "source": [
    "---\n",
    "# Résultatss des varaitions du paramètre `p` de bcl2fastq"
   ]
  },
  {
   "cell_type": "code",
   "execution_count": null,
   "id": "53ac3749-2446-497d-901c-f76269a0eb3e",
   "metadata": {},
   "outputs": [],
   "source": [
    "bcl2fasq = pd.read_csv(\"result_bcl2fastq.csv\")"
   ]
  },
  {
   "cell_type": "code",
   "execution_count": null,
   "id": "b7cd9339-911c-43e1-93e0-dfc8449fa180",
   "metadata": {},
   "outputs": [],
   "source": [
    "bcl2fasq"
   ]
  },
  {
   "cell_type": "code",
   "execution_count": null,
   "id": "eaf55b77-b8c2-4e9d-9562-3f6fd5237071",
   "metadata": {},
   "outputs": [],
   "source": [
    "time_melisse = [float(bcl2fasq[\"temps écoulé (h)\"][i][6:]) for i in range(0, 4)]\n",
    "time_jarvis = [bcl2fasq[\"temps écoulé (h)\"][i][:] for i in range(4, 8)]\n",
    "time_jarvis = [time.split(\" + \") for time in time_jarvis]\n",
    "time_jarvis_1 = [time[0] for time in time_jarvis]\n",
    "time_jarvis_2 = [time[1] for time in time_jarvis]\n",
    "time_jarvis_1 = [(float(time[0:2]) + float(time[3:5])/60) for time in time_jarvis_1]\n",
    "time_jarvis_2 = [(float(time[0:2]) + float(time[3:5])/60) for time in time_jarvis_2]\n",
    "time_jarvis_sum = np.array(time_jarvis_1) + np.array(time_jarvis_2)\n",
    "\n",
    "cpu_melisse = [float(bcl2fasq[\"utilisation cpu (%)\"][i]) for i in range(0, 4)]\n",
    "cpu_jarvis = [bcl2fasq[\"utilisation cpu (%)\"][i] for i in range(4, 8)]\n",
    "cpu_jarvis = [cpu_perc.split(\" + \") for cpu_perc in cpu_jarvis]\n",
    "cpu_jarvis_1 = [float(time[0]) for time in cpu_jarvis]\n",
    "cpu_jarvis_2 = [float(time[1]) for time in cpu_jarvis]\n",
    "cpu_jarvis_sum = (np.array(cpu_jarvis_1) + np.array(cpu_jarvis_2))/2\n",
    "\n",
    "cpu_time_melisse = [float(bcl2fasq[\"temps cpu\"][i]) for i in range(0, 4)]\n",
    "cpu_time_jarvis = [bcl2fasq[\"temps cpu\"][i] for i in range(4, 8)]\n",
    "cpu_time_jarvis = [cpu_time.split(\" + \") for cpu_time in cpu_time_jarvis]\n",
    "cpu_time_jarvis_1 = np.array([float(cpu_time[0]) for cpu_time in cpu_time_jarvis])/3600\n",
    "cpu_time_jarvis_2 = np.array([float(cpu_time[1]) for cpu_time in cpu_time_jarvis])/3600\n",
    "cpu_time_jarvis_sum = cpu_time_jarvis_1 + cpu_time_jarvis_2"
   ]
  },
  {
   "cell_type": "markdown",
   "id": "9645c945-31e6-43d4-aa28-5f4363fbcb9f",
   "metadata": {},
   "source": [
    "### Graphiques\n",
    "#### Temps total"
   ]
  },
  {
   "cell_type": "code",
   "execution_count": 2,
   "id": "5730a5d8-ed50-4da5-a9b2-1eb44eb53055",
   "metadata": {},
   "outputs": [],
   "source": [
    "def autolabel(rects, pos, labels, height, col=\"white\"):\n",
    "    \"\"\"Fonction d'auto-label sur les bar du barplot.\n",
    "    \n",
    "    Parameters\n",
    "    ----------\n",
    "    rects : BarContainer\n",
    "        Bar Plot.\n",
    "    pos : int\n",
    "        Position sur la figure.\n",
    "    labels : list or array like\n",
    "        Liste des labels à ajouter sur les bar du barplot.\n",
    "    height : float\n",
    "        Float compris entre 0 et 1 pour choisir la hauteur\n",
    "        des labels sur le barplot.\n",
    "    \"\"\"\n",
    "    for idx, rect in enumerate(rects):\n",
    "        ax[pos].text(rect.get_x() + rect.get_width()/2., height*rect.get_height(),\n",
    "                     round(labels[idx], 2), ha='center', va='top',\n",
    "                     rotation=0, color=col)\n",
    "    return\n",
    "\n",
    "\n",
    "def autolabel2(rects, pos, labels, height, col=\"white\"):\n",
    "    \"\"\"Fonction d'auto-label sur les bar du barplot.\n",
    "    \n",
    "    Parameters\n",
    "    ----------\n",
    "    rects : BarContainer\n",
    "        Bar Plot.\n",
    "    pos : int\n",
    "        Position sur la figure.\n",
    "    labels : list or array like\n",
    "        Liste des labels à ajouter sur les bar du barplot.\n",
    "    height : float\n",
    "        Float compris entre 0 et 1 pour choisir la hauteur\n",
    "        des labels sur le barplot.\n",
    "    \"\"\"\n",
    "    a = min([rect.get_height() for rect in rects])\n",
    "    for idx, rect in enumerate(rects):\n",
    "        ax[pos].text(rect.get_x() + rect.get_width()/2., height*a,\n",
    "                     str(round(labels[idx], 2))+\" %\", ha='center', va='top',\n",
    "                     rotation=0, color=col)\n",
    "    return"
   ]
  },
  {
   "cell_type": "code",
   "execution_count": null,
   "id": "5e6a5305-789e-4044-a227-92c67c0708ed",
   "metadata": {},
   "outputs": [],
   "source": [
    "sns.set_style(\"darkgrid\", {\"grid.color\": \".4\", \"grid.linestyle\": \":\"})\n",
    "plt.rc(\"font\", size=15)\n",
    "fig, ax = plt.subplots(nrows=1, ncols=2, figsize=(18, 8))\n",
    "ax = ax.ravel()\n",
    "\n",
    "bar1 = ax[0].bar([\"4\", \"8\", \"12\", \"16\"], time_melisse)\n",
    "ax[0].set_title(\"Barplot du temps total en fonction \\n du nombre de coeurs utilisés et du paramètre p  \\n (w = 4, r = 4)\")\n",
    "ax[0].set_xlabel(\"p = nombre de coeurs \\n (pourcentage d'utilisation cpu en noir)\")\n",
    "ax[0].set_ylabel(\"temps (s)\")\n",
    "ax[0].legend([\"MELISSE\"])\n",
    "ax[0].bar_label(bar1, padding=-20, fmt=\"%.2f\", color=\"white\")\n",
    "autolabel2(bar1, 0, cpu_melisse, 0.1, col=\"black\")\n",
    "\n",
    "bar2 = ax[1].bar([\"4\", \"8\", \"12\", \"16\"], time_jarvis_sum, color=\"orange\")\n",
    "ax[1].set_title(\"Barplot du temps total en fonction \\n du nombre de coeurs utilisés et du paramètre p \\n (w = 4, r = 4)\")\n",
    "ax[1].set_xlabel(\"p = nombre de coeurs \\n (pourcentage d'utilisation cpu en noir)\")\n",
    "ax[1].set_ylabel(\"temps (h)\")\n",
    "ax[1].legend([\"JARVIS\"])\n",
    "ax[1].bar_label(bar2, padding=-20, fmt=\"%.2f\", color=\"white\")\n",
    "autolabel2(bar2, 1, cpu_jarvis_sum, 0.12, col=\"black\")\n",
    "\n",
    "plt.savefig(\"img/temps_total1.png\", transparent=False);"
   ]
  },
  {
   "cell_type": "markdown",
   "id": "b9cf0747-b58a-43df-9fb1-8e76834bf392",
   "metadata": {},
   "source": [
    "#### Temps cpu"
   ]
  },
  {
   "cell_type": "code",
   "execution_count": null,
   "id": "d717acb4-d57a-4df7-be72-b78554a4c3c8",
   "metadata": {
    "tags": []
   },
   "outputs": [],
   "source": [
    "sns.set_style(\"darkgrid\", {\"grid.color\": \".4\", \"grid.linestyle\": \":\"})\n",
    "plt.rc(\"font\", size=15)\n",
    "fig, ax = plt.subplots(nrows=1, ncols=2, figsize=(18, 8))\n",
    "ax = ax.ravel()\n",
    "\n",
    "bar1 = ax[0].bar([\"4\", \"8\", \"12\", \"16\"], cpu_time_melisse)\n",
    "ax[0].set_title(\"Barplot du temps cpu en fonction \\n du nombre de coeurs utilisés et du paramètre p  \\n (w = 4, r = 4)\")\n",
    "ax[0].set_xlabel(\"p = nombre de coeurs \\n (pourcentage d'utilisation cpu en noir)\")\n",
    "ax[0].set_ylabel(\"temps (s)\")\n",
    "ax[0].legend([\"MELISSE\"])\n",
    "ax[0].bar_label(bar1, padding=-20, fmt=\"%.2f\", color=\"white\")\n",
    "\n",
    "bar2 = ax[1].bar([\"4\", \"8\", \"12\", \"16\"], cpu_time_jarvis_sum, color=\"orange\")\n",
    "ax[1].set_title(\"Barplot du cpu en fonction \\n du nombre de coeurs utilisés et du paramètre p \\n (w = 4, r = 4)\")\n",
    "ax[1].set_xlabel(\"p = nombre de coeurs \\n (pourcentage d'utilisation cpu en noir)\")\n",
    "ax[1].set_ylabel(\"temps (h)\")\n",
    "ax[1].legend([\"JARVIS\"])\n",
    "ax[1].bar_label(bar2, padding=-20, fmt=\"%.2f\", color=\"white\")\n",
    "\n",
    "#autolabel(bar1, 0, cpu_time_melisse, 0.95)\n",
    "#autolabel(bar2, 1, cpu_time_jarvis_sum, 0.95)\n",
    "autolabel2(bar1, 0, cpu_melisse, 0.1, col=\"black\")\n",
    "autolabel2(bar2, 1, cpu_jarvis_sum, 0.1, col=\"black\")\n",
    "plt.savefig(\"img/temps_cpu1.png\", transparent=False);"
   ]
  },
  {
   "cell_type": "markdown",
   "id": "1444e5b3-b572-4efe-98bf-509ccf182d6e",
   "metadata": {
    "tags": []
   },
   "source": [
    "### Barplot cummulé pour les deux run JARVIS"
   ]
  },
  {
   "cell_type": "code",
   "execution_count": null,
   "id": "de13b460-ef1f-4c2a-a986-c4c45cb3c22e",
   "metadata": {},
   "outputs": [],
   "source": [
    "sns.set_style(\"darkgrid\", {\"grid.color\": \".4\", \"grid.linestyle\": \":\"})\n",
    "fig, ax = plt.subplots(nrows=1, ncols=3, figsize=(27, 8))\n",
    "ax = ax.ravel()\n",
    "labels = [\"4\", \"8\", \"12\", \"16\"]\n",
    "plt.rc(\"font\", size=15)\n",
    "\n",
    "bar1 = ax[0].bar(labels, time_jarvis_1, label=\"jarvis (Sample sheet 6)\")\n",
    "bar2 = ax[0].bar(labels, time_jarvis_2, bottom=time_jarvis_1, label=\"jarvis (Sample sheet 8-8)\")\n",
    "ax[0].set_title(\"Barplot du temps total en fonction \\n du nombre de coeurs utilisés et du paramètre p \\n (w = 4, r = 4)\")\n",
    "ax[0].set_xlabel(\"p = nombre de coeurs\")\n",
    "ax[0].set_ylabel(\"temps (h)\")\n",
    "ax[0].bar_label(bar1, padding=-20, fmt=\"%.2f\", color=\"white\")\n",
    "ax[0].bar_label(bar2, labels=np.round(time_jarvis_2, 2), padding=-20, fmt=\"%.2f\", color=\"white\")\n",
    "ax[0].bar_label(bar2, labels=np.round(time_jarvis_sum, 2), padding=5, fmt=\"%.2f\", color=\"red\")\n",
    "ax[0].legend()\n",
    "\n",
    "bar3 = ax[1].bar(labels, cpu_time_jarvis_1, label=\"jarvis (Sample sheet 6)\")\n",
    "bar4 = ax[1].bar(labels, cpu_time_jarvis_2, bottom=cpu_time_jarvis_1, label=\"jarvis (Sample sheet 8-8)\")\n",
    "ax[1].set_title(\"Barplot du temps cpu en fonction \\n du nombre de coeurs utilisés et du paramètre p \\n (w = 4, r = 4)\")\n",
    "ax[1].set_xlabel(\"p = nombre de coeurs\")\n",
    "ax[1].set_ylabel(\"temps (h)\")\n",
    "ax[1].bar_label(bar3, padding=-20, fmt=\"%.2f\", color=\"white\")\n",
    "ax[1].bar_label(bar4, labels=np.round(cpu_time_jarvis_2, 2), padding=-20, fmt=\"%.2f\", color=\"white\")\n",
    "ax[1].bar_label(bar4, labels=np.round(cpu_time_jarvis_sum, 2), padding=5, fmt=\"%.2f\", color=\"red\")\n",
    "ax[1].legend()\n",
    "\n",
    "bar5 = ax[2].bar(labels, cpu_jarvis_1, label=\"jarvis (Sample sheet 6)\")\n",
    "bar6 = ax[2].bar(labels, cpu_jarvis_2, bottom=cpu_jarvis_1, label=\"jarvis (Sample sheet 8-8)\")\n",
    "ax[2].set_title(\"Barplot du temps pourcentage d'utilisation du cpu \\n en fonction du nombre de coeurs utilisés et du paramètre p \\n (w = 4, r = 4)\")\n",
    "ax[2].set_xlabel(\"p = nombre de coeurs\")\n",
    "ax[2].set_ylabel(\"pourcentage d'utilisation du cpu (%)\")\n",
    "ax[2].bar_label(bar5, padding=-20, fmt=\"%.2f\", color=\"white\")\n",
    "ax[2].bar_label(bar6, labels=np.round(cpu_jarvis_2, 2), padding=-20, fmt=\"%.2f\", color=\"white\")\n",
    "ax[2].bar_label(bar6, labels=np.round(cpu_jarvis_sum, 2), padding=5, fmt=\"%.2f\", color=\"red\")\n",
    "ax[2].legend(loc=4)\n",
    "\n",
    "plt.savefig(\"img/barplot_cum_jarvis1.png\", transparent=False);"
   ]
  },
  {
   "cell_type": "markdown",
   "id": "99b29c44-f74b-4067-a2d6-1fa918571a12",
   "metadata": {
    "tags": []
   },
   "source": [
    "---\n",
    "# Résultatss des varaitions des paramètres `w` et `r` de bcl2fastq"
   ]
  },
  {
   "cell_type": "code",
   "execution_count": null,
   "id": "01ddb31a-4813-4b36-9217-dc5991b7e84a",
   "metadata": {},
   "outputs": [],
   "source": [
    "bcl2fasq2 = pd.read_csv(\"result2_bcl2fastq.csv\")"
   ]
  },
  {
   "cell_type": "code",
   "execution_count": null,
   "id": "0286c2a7-0976-49a5-b2db-4ba4f3b92fbb",
   "metadata": {},
   "outputs": [],
   "source": [
    "bcl2fasq2"
   ]
  },
  {
   "cell_type": "code",
   "execution_count": null,
   "id": "a07b5f7f-48d3-4c47-9b3c-0473fe363fd8",
   "metadata": {},
   "outputs": [],
   "source": [
    "time_melisse = [float(bcl2fasq2[\"temps écoulé (h)\"][i][6:]) for i in range(0, 3)]\n",
    "time_jarvis = [bcl2fasq2[\"temps écoulé (h)\"][i][:] for i in range(3, 6)]\n",
    "time_jarvis = [time.split(\" + \") for time in time_jarvis]\n",
    "time_jarvis_1 = [time[0] for time in time_jarvis]\n",
    "time_jarvis_2 = [time[1] for time in time_jarvis]\n",
    "time_jarvis_1 = [(float(time[0:2]) + float(time[3:5])/60) for time in time_jarvis_1]\n",
    "time_jarvis_2 = [(float(time[0:2]) + float(time[3:5])/60) for time in time_jarvis_2]\n",
    "time_jarvis_sum = np.array(time_jarvis_1) + np.array(time_jarvis_2)\n",
    "\n",
    "cpu_melisse = [float(bcl2fasq2[\"utilisation cpu (%)\"][i]) for i in range(0, 3)]\n",
    "cpu_jarvis = [bcl2fasq2[\"utilisation cpu (%)\"][i] for i in range(3, 6)]\n",
    "cpu_jarvis = [cpu_perc.split(\" + \") for cpu_perc in cpu_jarvis]\n",
    "cpu_jarvis_1 = [float(time[0]) for time in cpu_jarvis]\n",
    "cpu_jarvis_2 = [float(time[1]) for time in cpu_jarvis]\n",
    "cpu_jarvis_sum = (np.array(cpu_jarvis_1) + np.array(cpu_jarvis_2))/2\n",
    "\n",
    "cpu_time_melisse = [float(bcl2fasq2[\"temps cpu\"][i]) for i in range(0, 3)]\n",
    "cpu_time_jarvis = [bcl2fasq2[\"temps cpu\"][i] for i in range(3, 6)]\n",
    "cpu_time_jarvis = [cpu_time.split(\" + \") for cpu_time in cpu_time_jarvis]\n",
    "cpu_time_jarvis_1 = np.array([float(cpu_time[0]) for cpu_time in cpu_time_jarvis])/3600\n",
    "cpu_time_jarvis_2 = np.array([float(cpu_time[1]) for cpu_time in cpu_time_jarvis])/3600\n",
    "cpu_time_jarvis_sum = cpu_time_jarvis_1 + cpu_time_jarvis_2"
   ]
  },
  {
   "cell_type": "markdown",
   "id": "f07d8010-4425-4db5-9523-bdb10beb4b9a",
   "metadata": {},
   "source": [
    "### Graphique\n",
    "#### Temps total"
   ]
  },
  {
   "cell_type": "code",
   "execution_count": null,
   "id": "64b32810-a2ec-45b8-a615-c09a29442e95",
   "metadata": {},
   "outputs": [],
   "source": [
    "sns.set_style(\"darkgrid\", {\"grid.color\": \".4\", \"grid.linestyle\": \":\"})\n",
    "fig, ax = plt.subplots(nrows=1, ncols=2, figsize=(18, 8))\n",
    "ax = ax.ravel()\n",
    "\n",
    "plt.rc(\"font\", size=15)\n",
    "bar1 = ax[0].bar([\"4\", \"8\", \"12\"], time_melisse)\n",
    "ax[0].set_title(\"Barplot du temps total en fonction de r et w \\n (p = nombre de coeurs = 12)\")\n",
    "ax[0].set_xlabel(\"r et w \\n (pourcentage d'utilisation cpu en noir)\")\n",
    "ax[0].set_ylabel(\"temps (s)\")\n",
    "ax[0].legend([\"MELISSE\"])\n",
    "ax[0].bar_label(bar1, padding=-20, fmt=\"%.2f\", color=\"white\")\n",
    "autolabel2(bar1, 0, cpu_melisse, 0.12, col=\"black\")\n",
    "\n",
    "bar2 = ax[1].bar([\"4\", \"8\", \"12\"], time_jarvis_sum, color=\"orange\")\n",
    "ax[1].set_title(\"Barplot du temps total en fonction de r et w \\n (p = nombre de coeurs = 12)\")\n",
    "ax[1].set_xlabel(\"r et w \\n (pourcentage d'utilisation cpu en noir)\")\n",
    "ax[1].set_ylabel(\"temps (h)\")\n",
    "ax[1].legend([\"JARVIS\"], loc=5)\n",
    "ax[1].bar_label(bar2, padding=-20, fmt=\"%.2f\", color=\"white\")\n",
    "autolabel2(bar2, 1, cpu_jarvis_sum, 0.06, col=\"black\")\n",
    "\n",
    "plt.savefig(\"img/temps_total2.png\", transparent=False);"
   ]
  },
  {
   "cell_type": "markdown",
   "id": "46fd52c2-c614-4006-ac27-ea75675bf6a1",
   "metadata": {},
   "source": [
    "#### Temps cpu"
   ]
  },
  {
   "cell_type": "code",
   "execution_count": null,
   "id": "877617c6-6e25-45c5-af0f-73a878b01c23",
   "metadata": {
    "tags": []
   },
   "outputs": [],
   "source": [
    "sns.set_style(\"darkgrid\", {\"grid.color\": \".4\", \"grid.linestyle\": \":\"})\n",
    "fig, ax = plt.subplots(nrows=1, ncols=2, figsize=(18, 8))\n",
    "ax = ax.ravel()\n",
    "\n",
    "plt.rc(\"font\", size=15)\n",
    "bar1 = ax[0].bar([\"4\", \"8\", \"12\"], cpu_time_melisse)\n",
    "ax[0].set_title(\"Barplot du temps cpu en fonction de w et r \\n (p = nombre de coeurs = 12)\")\n",
    "ax[0].set_xlabel(\"r et w \\n (pourcentage d'utilisation cpu en noir)\")\n",
    "ax[0].set_ylabel(\"temps (s)\")\n",
    "ax[0].legend([\"MELISSE\"], loc=5)\n",
    "ax[0].bar_label(bar1, padding=-20, fmt=\"%.2f\", color=\"white\")\n",
    "autolabel2(bar1, 0, cpu_melisse, 0.05, col=\"black\")\n",
    "\n",
    "bar2 = ax[1].bar([\"4\", \"8\", \"12\"], cpu_time_jarvis_sum, color=\"orange\")\n",
    "ax[1].set_title(\"Barplot du temps cpu en fonction de w et r \\n (p = nombre de coeurs = 12)\")\n",
    "ax[1].set_xlabel(\"r et w \\n (pourcentage d'utilisation cpu en noir)\")\n",
    "ax[1].set_ylabel(\"temps (h)\")\n",
    "ax[1].legend([\"JARVIS\"], loc=5)\n",
    "ax[1].bar_label(bar2, padding=-20, fmt=\"%.2f\", color=\"white\")\n",
    "autolabel2(bar2, 1, cpu_jarvis_sum, 0.05, col=\"black\")\n",
    "\n",
    "plt.savefig(\"img/temps_cpu2.png\", transparent=False);"
   ]
  },
  {
   "cell_type": "markdown",
   "id": "69abe3f9-8717-4fe6-8ab2-a60412c36e90",
   "metadata": {},
   "source": [
    "### Barplot cummulé pour les deux run JARVIS"
   ]
  },
  {
   "cell_type": "code",
   "execution_count": null,
   "id": "d4f0c075-b0c3-49b6-8e7e-d7aed179f6ae",
   "metadata": {},
   "outputs": [],
   "source": [
    "sns.set_style(\"darkgrid\", {\"grid.color\": \".4\", \"grid.linestyle\": \":\"})\n",
    "fig, ax = plt.subplots(nrows=1, ncols=3, figsize=(27, 8))\n",
    "ax = ax.ravel()\n",
    "labels = [\"4\", \"8\", \"12\"]\n",
    "plt.rc(\"font\", size=15)\n",
    "\n",
    "bar1 = ax[0].bar(labels, time_jarvis_1, label=\"jarvis (Sample sheet 6)\")\n",
    "bar2 = ax[0].bar(labels, time_jarvis_2, bottom=time_jarvis_1, label=\"jarvis (Sample sheet 8-8)\")\n",
    "ax[0].set_title(\"Barplot du temps total en fonction de w et r \\n (p = nombre de coeurs = 12)\")\n",
    "ax[0].set_xlabel(\"r et w\")\n",
    "ax[0].set_ylabel(\"temps (h)\")\n",
    "ax[0].bar_label(bar1, padding=-20, fmt=\"%.2f\", color=\"white\")\n",
    "ax[0].bar_label(bar2, labels=np.round(time_jarvis_2, 2), padding=-20, fmt=\"%.2f\", color=\"white\")\n",
    "ax[0].bar_label(bar2, labels=np.round(time_jarvis_sum, 2), padding=5, fmt=\"%.2f\", color=\"red\")\n",
    "ax[0].legend(loc=4)\n",
    "\n",
    "bar3 = ax[1].bar(labels, cpu_time_jarvis_1, label=\"jarvis (Sample sheet 6)\")\n",
    "bar4 = ax[1].bar(labels, cpu_time_jarvis_2, bottom=cpu_time_jarvis_1, label=\"jarvis (Sample sheet 8-8)\")\n",
    "ax[1].set_title(\"Barplot du temps cpu en fonction de w et r \\n (p = nombre de coeurs = 12)\")\n",
    "ax[1].set_xlabel(\"r et w\")\n",
    "ax[1].set_ylabel(\"temps (h)\")\n",
    "ax[1].bar_label(bar3, padding=-20, fmt=\"%.2f\", color=\"white\")\n",
    "ax[1].bar_label(bar4, labels=np.round(cpu_time_jarvis_2, 2), padding=-20, fmt=\"%.2f\", color=\"white\")\n",
    "ax[1].bar_label(bar4, labels=np.round(cpu_time_jarvis_sum, 2), padding=5, fmt=\"%.2f\", color=\"red\")\n",
    "ax[1].legend(loc=4)\n",
    "\n",
    "bar5 = ax[2].bar(labels, cpu_jarvis_1, label=\"jarvis (Sample sheet 6)\")\n",
    "bar6 = ax[2].bar(labels, cpu_jarvis_2, bottom=cpu_jarvis_1, label=\"jarvis (Sample sheet 8-8)\")\n",
    "ax[2].set_title(\"Barplot du pourcentage d'utilisation du cpu \\n en fonction de w et r \\n (p = nombre de coeurs = 12)\")\n",
    "ax[2].set_xlabel(\"r et w\")\n",
    "ax[2].set_ylabel(\"pourcentage d'utilisation du cpu (%)\")\n",
    "ax[2].bar_label(bar5, padding=-20, fmt=\"%.2f\", color=\"white\")\n",
    "ax[2].bar_label(bar6, labels=np.round(cpu_jarvis_2, 2), padding=-20, fmt=\"%.2f\", color=\"white\")\n",
    "ax[2].bar_label(bar6, labels=np.round(cpu_jarvis_sum, 2), padding=5, fmt=\"%.2f\", color=\"red\")\n",
    "ax[2].legend(loc=4)\n",
    "\n",
    "plt.savefig(\"img/barplot_cum_jarvis2.png\", transparent=False);"
   ]
  },
  {
   "cell_type": "markdown",
   "id": "ea671903-f39d-4873-abd4-0a89b2f21eb9",
   "metadata": {
    "tags": []
   },
   "source": [
    "---\n",
    "# Résultatss des varaitions des paramètres `p`, `w` et `r` de bcl2fastq"
   ]
  },
  {
   "cell_type": "code",
   "execution_count": null,
   "id": "8935e3e1-0b94-4fc4-9cb5-85b0bb93aad8",
   "metadata": {},
   "outputs": [],
   "source": [
    "bcl2fasq3 = pd.read_csv(\"result3_bcl2fastq.csv\")"
   ]
  },
  {
   "cell_type": "code",
   "execution_count": null,
   "id": "c21b3d18-9339-499b-aa2c-be1e092f111b",
   "metadata": {},
   "outputs": [],
   "source": [
    "bcl2fasq3"
   ]
  },
  {
   "cell_type": "code",
   "execution_count": null,
   "id": "3d5120a0-65d9-497d-b9fa-0ce9af4d313b",
   "metadata": {},
   "outputs": [],
   "source": [
    "time_melisse = [float(bcl2fasq3[\"temps écoulé (h)\"][i][6:]) for i in range(0, 4)]\n",
    "time_jarvis = [bcl2fasq3[\"temps écoulé (h)\"][i][:] for i in range(4, 8)]\n",
    "time_jarvis = [time.split(\" + \") for time in time_jarvis]\n",
    "time_jarvis_1 = [time[0] for time in time_jarvis]\n",
    "time_jarvis_2 = [time[1] for time in time_jarvis]\n",
    "time_jarvis_1 = [(float(time[0:2]) + float(time[3:5])/60) for time in time_jarvis_1]\n",
    "time_jarvis_2 = [(float(time[0:2]) + float(time[3:5])/60) for time in time_jarvis_2]\n",
    "time_jarvis_sum = np.array(time_jarvis_1) + np.array(time_jarvis_2)\n",
    "\n",
    "cpu_melisse = [float(bcl2fasq3[\"utilisation cpu (%)\"][i]) for i in range(0, 4)]\n",
    "cpu_jarvis = [bcl2fasq3[\"utilisation cpu (%)\"][i] for i in range(4, 8)]\n",
    "cpu_jarvis = [cpu_perc.split(\" + \") for cpu_perc in cpu_jarvis]\n",
    "cpu_jarvis_1 = [float(time[0]) for time in cpu_jarvis]\n",
    "cpu_jarvis_2 = [float(time[1]) for time in cpu_jarvis]\n",
    "cpu_jarvis_sum = (np.array(cpu_jarvis_1) + np.array(cpu_jarvis_2))/2\n",
    "\n",
    "cpu_time_melisse = [float(bcl2fasq3[\"temps cpu\"][i]) for i in range(0, 4)]\n",
    "cpu_time_jarvis = [bcl2fasq3[\"temps cpu\"][i] for i in range(4, 8)]\n",
    "cpu_time_jarvis = [cpu_time.split(\" + \") for cpu_time in cpu_time_jarvis]\n",
    "cpu_time_jarvis_1 = np.array([float(cpu_time[0]) for cpu_time in cpu_time_jarvis])/3600\n",
    "cpu_time_jarvis_2 = np.array([float(cpu_time[1]) for cpu_time in cpu_time_jarvis])/3600\n",
    "cpu_time_jarvis_sum = cpu_time_jarvis_1 + cpu_time_jarvis_2"
   ]
  },
  {
   "cell_type": "markdown",
   "id": "7abe4aa2-267d-4ce9-9fa3-3a2ad4cfc87f",
   "metadata": {},
   "source": [
    "### Graphique\n",
    "#### Temps total"
   ]
  },
  {
   "cell_type": "code",
   "execution_count": null,
   "id": "d2f8f12b-fa62-49a8-8b7f-c26cd772e1d4",
   "metadata": {},
   "outputs": [],
   "source": [
    "sns.set_style(\"darkgrid\", {\"grid.color\": \".4\", \"grid.linestyle\": \":\"})\n",
    "fig, ax = plt.subplots(nrows=1, ncols=2, figsize=(18, 8))\n",
    "ax = ax.ravel()\n",
    "\n",
    "plt.rc(\"font\", size=15)\n",
    "bar1 = ax[0].bar([\"4\", \"8\", \"12\", \"16\"], time_melisse)\n",
    "ax[0].set_title(\"Barplot du temps total en fonction \\n du nombre de coeurs utilisés et des paramètres\")\n",
    "ax[0].set_xlabel(\"p = r = w = nombre de coeurs \\n (pourcentage d'utilisation cpu en noir)\")\n",
    "ax[0].set_ylabel(\"temps (s)\")\n",
    "ax[0].legend([\"MELISSE\"])\n",
    "ax[0].bar_label(bar1, padding=-20, fmt=\"%.2f\", color=\"white\")\n",
    "autolabel2(bar1, 0, cpu_melisse, 0.2, col=\"black\")\n",
    "\n",
    "bar2 = ax[1].bar([\"4\", \"8\", \"12\", \"16\"], time_jarvis_sum, color=\"orange\")\n",
    "ax[1].set_title(\"Barplot du temps total en fonction \\n du nombre de coeurs utilisés et des paramètres\")\n",
    "ax[1].set_xlabel(\"p = r = w = nombre de coeurs \\n (pourcentage d'utilisation cpu en noir)\")\n",
    "ax[1].set_ylabel(\"temps (h)\")\n",
    "ax[1].legend([\"JARVIS\"])\n",
    "ax[1].bar_label(bar2, padding=-20, fmt=\"%.2f\", color=\"white\")\n",
    "autolabel2(bar2, 1, cpu_jarvis_sum, 0.18, col=\"black\")\n",
    "\n",
    "plt.savefig(\"img/temps_total3.png\", transparent=False);"
   ]
  },
  {
   "cell_type": "markdown",
   "id": "56933864-799b-4948-acc7-9bb36f8e0da5",
   "metadata": {},
   "source": [
    "#### Temps cpu"
   ]
  },
  {
   "cell_type": "code",
   "execution_count": null,
   "id": "ecfa7e59-238b-47a5-98c9-19c2d4ef74fd",
   "metadata": {
    "tags": []
   },
   "outputs": [],
   "source": [
    "sns.set_style(\"darkgrid\", {\"grid.color\": \".4\", \"grid.linestyle\": \":\"})\n",
    "fig, ax = plt.subplots(nrows=1, ncols=2, figsize=(18, 8))\n",
    "ax = ax.ravel()\n",
    "\n",
    "plt.rc(\"font\", size=15)\n",
    "bar1 = ax[0].bar([\"4\", \"8\", \"12\", \"16\"], cpu_time_melisse)\n",
    "ax[0].set_title(\"Barplot du temps cpu en fonction \\n du nombre de coeurs utilisés des paramètres\")\n",
    "ax[0].set_xlabel(\"p = r = w = nombre de coeurs \\n (pourcentage d'utilisation cpu en noir)\")\n",
    "ax[0].set_ylabel(\"temps (s)\")\n",
    "ax[0].legend([\"MELISSE\"])\n",
    "ax[0].bar_label(bar1, padding=-20, fmt=\"%.2f\", color=\"white\")\n",
    "autolabel2(bar1, 0, cpu_melisse, 0.06, col=\"black\")\n",
    "\n",
    "bar2 = ax[1].bar([\"4\", \"8\", \"12\", \"16\"], cpu_time_jarvis_sum, color=\"orange\")\n",
    "ax[1].set_title(\"Barplot du temps cpu en fonction \\n du nombre de coeurs utilisés des paramètres\")\n",
    "ax[1].set_xlabel(\"p = r = w = nombre de coeurs \\n (pourcentage d'utilisation cpu en noir)\")\n",
    "ax[1].set_ylabel(\"temps (h)\")\n",
    "ax[1].legend([\"JARVIS\"])\n",
    "ax[1].bar_label(bar2, padding=-20, fmt=\"%.2f\", color=\"white\")\n",
    "autolabel2(bar2, 1, cpu_jarvis_sum, 0.05, col=\"black\")\n",
    "\n",
    "plt.savefig(\"img/temps_cpu3.png\", transparent=False);"
   ]
  },
  {
   "cell_type": "markdown",
   "id": "be811fe2-9865-43bd-bce8-79b104c62a8e",
   "metadata": {},
   "source": [
    "### Barplot cummulé pour les deux run JARVIS"
   ]
  },
  {
   "cell_type": "code",
   "execution_count": null,
   "id": "467fb6e3-e577-4401-ad46-bd9c77cd01a2",
   "metadata": {},
   "outputs": [],
   "source": [
    "sns.set_style(\"darkgrid\", {\"grid.color\": \".4\", \"grid.linestyle\": \":\"})\n",
    "fig, ax = plt.subplots(nrows=1, ncols=3, figsize=(27, 8))\n",
    "ax = ax.ravel()\n",
    "labels = [\"4\", \"8\", \"12\", \"16\"]\n",
    "plt.rc(\"font\", size=15)\n",
    "\n",
    "bar1 = ax[0].bar(labels, time_jarvis_1, label=\"jarvis (Sample sheet 6)\")\n",
    "bar2 = ax[0].bar(labels, time_jarvis_2, bottom=time_jarvis_1, label=\"jarvis (Sample sheet 8-8)\")\n",
    "ax[0].set_title(\"Barplot du temps total écoulé en fonction \\n du nombre de coeurs utilisés et des paramètres\")\n",
    "ax[0].set_xlabel(\"p = r = w = nombre de coeurs\")\n",
    "ax[0].set_ylabel(\"temps (h)\")\n",
    "ax[0].bar_label(bar1, padding=-20, fmt=\"%.2f\", color=\"white\")\n",
    "ax[0].bar_label(bar2, labels=np.round(time_jarvis_2, 2), padding=-20, fmt=\"%.2f\", color=\"white\")\n",
    "ax[0].bar_label(bar2, labels=np.round(time_jarvis_sum, 2), padding=5, fmt=\"%.2f\", color=\"red\")\n",
    "ax[0].legend()\n",
    "\n",
    "bar3 = ax[1].bar(labels, cpu_time_jarvis_1, label=\"jarvis (Sample sheet 6)\")\n",
    "bar4 = ax[1].bar(labels, cpu_time_jarvis_2, bottom=cpu_time_jarvis_1, label=\"jarvis (Sample sheet 8-8)\")\n",
    "ax[1].set_title(\"Barplot du temps cpu écoulé en fonction \\n du nombre de coeurs utilisés et des paramètres\")\n",
    "ax[1].set_xlabel(\"p = r = w = nombre de coeurs\")\n",
    "ax[1].set_ylabel(\"temps (h)\")\n",
    "ax[1].bar_label(bar3, padding=-20, fmt=\"%.2f\", color=\"white\")\n",
    "ax[1].bar_label(bar4, labels=np.round(cpu_time_jarvis_2, 2), padding=-20, fmt=\"%.2f\", color=\"white\")\n",
    "ax[1].bar_label(bar4, labels=np.round(cpu_time_jarvis_sum, 2), padding=5, fmt=\"%.2f\", color=\"red\")\n",
    "ax[1].legend(loc=4)\n",
    "\n",
    "bar5 = ax[2].bar(labels, cpu_jarvis_1, label=\"jarvis (Sample sheet 6)\")\n",
    "bar6 = ax[2].bar(labels, cpu_jarvis_2, bottom=cpu_jarvis_1, label=\"jarvis (Sample sheet 8-8)\")\n",
    "ax[2].set_title(\"Barplot du temps pourcentage d'utilisation du cpu \\n en fonction du nombre de coeurs utilisés et des paramètres\")\n",
    "ax[2].set_xlabel(\"p = r = w = nombre de coeurs\")\n",
    "ax[2].set_ylabel(\"pourcentage d'utilisation du cpu (%)\")\n",
    "ax[2].bar_label(bar5, padding=-20, fmt=\"%.2f\", color=\"white\")\n",
    "ax[2].bar_label(bar6, labels=np.round(cpu_jarvis_2, 2), padding=-20, fmt=\"%.2f\", color=\"white\")\n",
    "ax[2].bar_label(bar6, labels=np.round(cpu_jarvis_sum, 2), padding=5, fmt=\"%.2f\", color=\"red\")\n",
    "ax[2].legend(loc=4)\n",
    "\n",
    "plt.savefig(\"img/barplot_cum_jarvis3.png\", transparent=False);"
   ]
  },
  {
   "cell_type": "markdown",
   "id": "2c0ba5fd-3030-4913-bc87-65f4bfacb77b",
   "metadata": {
    "tags": []
   },
   "source": [
    "---\n",
    "# Résultatss des varaitions des paramètres `w` et `r` avec `p` = 8 de bcl2fastq"
   ]
  },
  {
   "cell_type": "code",
   "execution_count": null,
   "id": "37d3d1d3-9efd-407e-bb32-e46cc5ade7ac",
   "metadata": {},
   "outputs": [],
   "source": [
    "bcl2fasq4 = pd.read_csv(\"result4_bcl2fastq.csv\")"
   ]
  },
  {
   "cell_type": "code",
   "execution_count": null,
   "id": "8413cfdd-8617-429a-9bdf-b6dc9a6fe1c7",
   "metadata": {},
   "outputs": [],
   "source": [
    "bcl2fasq4"
   ]
  },
  {
   "cell_type": "code",
   "execution_count": null,
   "id": "35f4fa24-fe8b-4b6d-ba11-effcf69be36f",
   "metadata": {},
   "outputs": [],
   "source": [
    "time_melisse = [float(bcl2fasq4[\"temps écoulé (h)\"][i][6:]) for i in range(0, 4)]\n",
    "time_jarvis = [bcl2fasq4[\"temps écoulé (h)\"][i][:] for i in range(4, 8)]\n",
    "time_jarvis = [time.split(\" + \") for time in time_jarvis]\n",
    "time_jarvis_1 = [time[0] for time in time_jarvis]\n",
    "time_jarvis_2 = [time[1] for time in time_jarvis]\n",
    "time_jarvis_1 = [(float(time[0:2]) + float(time[3:5])/60) for time in time_jarvis_1]\n",
    "time_jarvis_2 = [(float(time[0:2]) + float(time[3:5])/60) for time in time_jarvis_2]\n",
    "time_jarvis_sum = np.array(time_jarvis_1) + np.array(time_jarvis_2)\n",
    "\n",
    "cpu_melisse = [float(bcl2fasq4[\"utilisation cpu (%)\"][i]) for i in range(0, 4)]\n",
    "cpu_jarvis = [bcl2fasq4[\"utilisation cpu (%)\"][i] for i in range(4, 8)]\n",
    "cpu_jarvis = [cpu_perc.split(\" + \") for cpu_perc in cpu_jarvis]\n",
    "cpu_jarvis_1 = [float(time[0]) for time in cpu_jarvis]\n",
    "cpu_jarvis_2 = [float(time[1]) for time in cpu_jarvis]\n",
    "cpu_jarvis_sum = (np.array(cpu_jarvis_1) + np.array(cpu_jarvis_2))/2\n",
    "\n",
    "cpu_time_melisse = [float(bcl2fasq4[\"temps cpu\"][i]) for i in range(0, 4)]\n",
    "cpu_time_jarvis = [bcl2fasq4[\"temps cpu\"][i] for i in range(4, 8)]\n",
    "cpu_time_jarvis = [cpu_time.split(\" + \") for cpu_time in cpu_time_jarvis]\n",
    "cpu_time_jarvis_1 = np.array([float(cpu_time[0]) for cpu_time in cpu_time_jarvis])/3600\n",
    "cpu_time_jarvis_2 = np.array([float(cpu_time[1]) for cpu_time in cpu_time_jarvis])/3600\n",
    "cpu_time_jarvis_sum = cpu_time_jarvis_1 + cpu_time_jarvis_2"
   ]
  },
  {
   "cell_type": "markdown",
   "id": "a628fb35-8d93-416c-888d-ab86a5b0afb3",
   "metadata": {},
   "source": [
    "### Graphique\n",
    "#### Temps total"
   ]
  },
  {
   "cell_type": "code",
   "execution_count": null,
   "id": "2a71066a-4199-47f6-a5e5-d68c5a1b5ba6",
   "metadata": {},
   "outputs": [],
   "source": [
    "sns.set_style(\"darkgrid\", {\"grid.color\": \".4\", \"grid.linestyle\": \":\"})\n",
    "fig, ax = plt.subplots(nrows=1, ncols=2, figsize=(18, 8))\n",
    "ax = ax.ravel()\n",
    "\n",
    "plt.rc(\"font\", size=15)\n",
    "bar1 = ax[0].bar([\"2\", \"4\", \"6\", \"8\"], time_melisse)\n",
    "ax[0].set_title(\"Barplot du temps total en fonction de w et r \\n (p = nombre de coeurs = 8)\")\n",
    "ax[0].set_xlabel(\"r et w \\n (pourcentage d'utilisation cpu en noir)\")\n",
    "ax[0].set_ylabel(\"temps (s)\")\n",
    "ax[0].legend([\"MELISSE\"])\n",
    "ax[0].bar_label(bar1, padding=-20, fmt=\"%.2f\", color=\"white\")\n",
    "autolabel2(bar1, 0, cpu_melisse, 0.2, col=\"black\")\n",
    "\n",
    "bar2 = ax[1].bar([\"2\", \"4\", \"6\", \"8\"], time_jarvis_sum, color=\"orange\")\n",
    "ax[1].set_title(\"Barplot du temps total en fonction de w et r \\n (p = nombre de coeurs = 8)\")\n",
    "ax[1].set_xlabel(\"r et w \\n (pourcentage d'utilisation cpu en noir)\")\n",
    "ax[1].set_ylabel(\"temps (h)\")\n",
    "ax[1].legend([\"JARVIS\"], loc=5)\n",
    "ax[1].bar_label(bar2, padding=-20, fmt=\"%.2f\", color=\"white\")\n",
    "autolabel2(bar2, 1, cpu_jarvis_sum, 0.05, col=\"black\")\n",
    "\n",
    "plt.savefig(\"img/temps_total4.png\", transparent=False);"
   ]
  },
  {
   "cell_type": "markdown",
   "id": "0cff365f-eb5f-4a4c-8deb-cd871979a8a8",
   "metadata": {},
   "source": [
    "#### Temps cpu"
   ]
  },
  {
   "cell_type": "code",
   "execution_count": null,
   "id": "b839e8b6-c1a4-429e-8046-bec2b9056bc9",
   "metadata": {
    "tags": []
   },
   "outputs": [],
   "source": [
    "sns.set_style(\"darkgrid\", {\"grid.color\": \".4\", \"grid.linestyle\": \":\"})\n",
    "fig, ax = plt.subplots(nrows=1, ncols=2, figsize=(18, 8))\n",
    "ax = ax.ravel()\n",
    "\n",
    "plt.rc(\"font\", size=15)\n",
    "bar1 = ax[0].bar([\"4\", \"8\", \"12\", \"16\"], cpu_time_melisse)\n",
    "ax[0].set_title(\"Barplot du temps total en fonction de w et r \\n (p = nombre de coeurs = 8)\")\n",
    "ax[0].set_xlabel(\"r et w \\n (pourcentage d'utilisation cpu en noir)\")\n",
    "ax[0].set_ylabel(\"temps (s)\")\n",
    "ax[0].legend([\"MELISSE\"])\n",
    "ax[0].bar_label(bar1, padding=-20, fmt=\"%.2f\", color=\"white\")\n",
    "autolabel2(bar1, 0, cpu_melisse, 0.06, col=\"black\")\n",
    "\n",
    "bar2 = ax[1].bar([\"4\", \"8\", \"12\", \"16\"], cpu_time_jarvis_sum, color=\"orange\")\n",
    "ax[1].set_title(\"Barplot du temps total en fonction de w et r \\n (p = nombre de coeurs = 8)\")\n",
    "ax[1].set_xlabel(\"r et w \\n (pourcentage d'utilisation cpu en noir)\")\n",
    "ax[1].set_ylabel(\"temps (h)\")\n",
    "ax[1].legend([\"JARVIS\"])\n",
    "ax[1].bar_label(bar2, padding=-20, fmt=\"%.2f\", color=\"white\")\n",
    "autolabel2(bar2, 1, cpu_jarvis_sum, 0.05, col=\"black\")\n",
    "\n",
    "plt.savefig(\"img/temps_cpu4.png\", transparent=False);"
   ]
  },
  {
   "cell_type": "markdown",
   "id": "0cd9242c-51d4-41e6-b3b9-4ca4cfb2a216",
   "metadata": {
    "tags": []
   },
   "source": [
    "### Barplot cummulé pour les deux run JARVIS"
   ]
  },
  {
   "cell_type": "code",
   "execution_count": null,
   "id": "fecfb201-aa31-4af6-8509-63dc296008a9",
   "metadata": {},
   "outputs": [],
   "source": [
    "sns.set_style(\"darkgrid\", {\"grid.color\": \".4\", \"grid.linestyle\": \":\"})\n",
    "fig, ax = plt.subplots(nrows=1, ncols=3, figsize=(27, 8))\n",
    "ax = ax.ravel()\n",
    "labels = [\"4\", \"8\", \"12\", \"16\"]\n",
    "plt.rc(\"font\", size=15)\n",
    "\n",
    "bar1 = ax[0].bar(labels, time_jarvis_1, label=\"jarvis (Sample sheet 6)\")\n",
    "bar2 = ax[0].bar(labels, time_jarvis_2, bottom=time_jarvis_1, label=\"jarvis (Sample sheet 8-8)\")\n",
    "ax[0].set_title(\"Barplot du temps total en fonction de w et r \\n (p = nombre de coeurs = 8)\")\n",
    "ax[0].set_xlabel(\"r et w\")\n",
    "ax[0].set_ylabel(\"temps (h)\")\n",
    "ax[0].bar_label(bar1, padding=-20, fmt=\"%.2f\", color=\"white\")\n",
    "ax[0].bar_label(bar2, labels=np.round(time_jarvis_2, 2), padding=-20, fmt=\"%.2f\", color=\"white\")\n",
    "ax[0].bar_label(bar2, labels=np.round(time_jarvis_sum, 2), padding=5, fmt=\"%.2f\", color=\"red\")\n",
    "ax[0].legend(loc=4)\n",
    "\n",
    "bar3 = ax[1].bar(labels, cpu_time_jarvis_1, label=\"jarvis (Sample sheet 6)\")\n",
    "bar4 = ax[1].bar(labels, cpu_time_jarvis_2, bottom=cpu_time_jarvis_1, label=\"jarvis (Sample sheet 8-8)\")\n",
    "ax[1].set_title(\"Barplot du temps cpu en fonction de w et r \\n (p = nombre de coeurs = 8)\")\n",
    "ax[1].set_xlabel(\"r et w\")\n",
    "ax[1].set_ylabel(\"temps (h)\")\n",
    "ax[1].bar_label(bar3, padding=-20, fmt=\"%.2f\", color=\"white\")\n",
    "ax[1].bar_label(bar4, labels=np.round(cpu_time_jarvis_2, 2), padding=-20, fmt=\"%.2f\", color=\"white\")\n",
    "ax[1].bar_label(bar4, labels=np.round(cpu_time_jarvis_sum, 2), padding=5, fmt=\"%.2f\", color=\"red\")\n",
    "ax[1].legend(loc=4)\n",
    "\n",
    "bar5 = ax[2].bar(labels, cpu_jarvis_1, label=\"jarvis (Sample sheet 6)\")\n",
    "bar6 = ax[2].bar(labels, cpu_jarvis_2, bottom=cpu_jarvis_1, label=\"jarvis (Sample sheet 8-8)\")\n",
    "ax[2].set_title(\"Barplot du temps pourcentage d'utilisation du cpu \\n  en fonction de w et r \\n (p = nombre de coeurs = 8)\")\n",
    "ax[2].set_xlabel(\"r et wr\")\n",
    "ax[2].set_ylabel(\"pourcentage d'utilisation du cpu (%)\")\n",
    "ax[2].bar_label(bar5, padding=-20, fmt=\"%.2f\", color=\"white\")\n",
    "ax[2].bar_label(bar6, labels=np.round(cpu_jarvis_2, 2), padding=-20, fmt=\"%.2f\", color=\"white\")\n",
    "ax[2].bar_label(bar6, labels=np.round(cpu_jarvis_sum, 2), padding=5, fmt=\"%.2f\", color=\"red\")\n",
    "ax[2].legend(loc=4)\n",
    "\n",
    "plt.savefig(\"img/barplot_cum_jarvis4.png\", transparent=False);"
   ]
  },
  {
   "cell_type": "code",
   "execution_count": null,
   "id": "fc27b307-3851-41e7-874e-fb9dfb609aee",
   "metadata": {},
   "outputs": [],
   "source": [
    "tab_final_jarvis = pd.concat([bcl2fasq[bcl2fasq[\"type run\"] == \"JARVIS\"], bcl2fasq2[bcl2fasq2[\"type run\"] == \"JARVIS\"],\n",
    "           bcl2fasq3[bcl2fasq3[\"type run\"] == \"JARVIS\"], bcl2fasq4[bcl2fasq4[\"type run\"] == \"JARVIS\"]],\n",
    "          axis=0, join=\"inner\", ignore_index=True)\n",
    "\n",
    "tab_final_melisse = pd.concat([bcl2fasq[bcl2fasq[\"type run\"] == \"MELISSE\"], bcl2fasq2[bcl2fasq2[\"type run\"] == \"MELISSE\"],\n",
    "           bcl2fasq3[bcl2fasq3[\"type run\"] == \"MELISSE\"], bcl2fasq4[bcl2fasq4[\"type run\"] == \"MELISSE\"]],\n",
    "          axis=0, join=\"outer\", ignore_index=True)"
   ]
  },
  {
   "cell_type": "code",
   "execution_count": null,
   "id": "17120f2f-3949-45f6-ab56-61b34130ab19",
   "metadata": {},
   "outputs": [],
   "source": [
    "tab_final_jarvis = tab_final_jarvis.drop([4, 6, 7, 12, 14], axis=0)\n",
    "tab_final_jarvis"
   ]
  },
  {
   "cell_type": "code",
   "execution_count": null,
   "id": "b7ff6a3a-80b8-4292-8383-07255abec3ef",
   "metadata": {},
   "outputs": [],
   "source": [
    "tab_final_melisse = tab_final_melisse.drop([4, 6, 7, 12, 14], axis=0)\n",
    "tab_final_melisse"
   ]
  },
  {
   "cell_type": "code",
   "execution_count": null,
   "id": "2a9d0d7d-8f13-4efe-98a0-50cfa925b80a",
   "metadata": {},
   "outputs": [],
   "source": [
    "def conv_time_dtf(times):\n",
    "    time_conv = []\n",
    "    for time in times:\n",
    "        time = float(time)\n",
    "        h = int(time/3600)\n",
    "        if h <10:\n",
    "            h = f\"0{h}\"\n",
    "        m = int(time%3600/60)\n",
    "        if m < 10:\n",
    "            m = f\"0{m}\"\n",
    "        s = int(time%3600%60)\n",
    "        if s < 10:\n",
    "            s = f\"0{s}\"\n",
    "        time_conv.append(f\"{h}:{m}:{s}\")\n",
    "    return time_conv"
   ]
  },
  {
   "cell_type": "code",
   "execution_count": null,
   "id": "be4ccbaf-dfaf-4cf5-aecd-64c2e9092cd4",
   "metadata": {},
   "outputs": [],
   "source": [
    "tab_final_melisse[\"temps cpu\"] = conv_time_dtf(tab_final_melisse[\"temps cpu\"])\n",
    "tab_final_melisse = tab_final_melisse.rename(columns={\"temps cpu\": \"temps cpu (h)\"})\n",
    "tab_final_melisse"
   ]
  },
  {
   "cell_type": "code",
   "execution_count": null,
   "id": "5253cc3a-595a-44c7-a424-14b73a93ddfb",
   "metadata": {},
   "outputs": [],
   "source": [
    "tab_final_melisse.to_csv(\"tab_final_melisse.csv\", index=None)"
   ]
  },
  {
   "cell_type": "code",
   "execution_count": null,
   "id": "21d860eb-fb27-4180-869b-81be4a4ba253",
   "metadata": {},
   "outputs": [],
   "source": [
    "time_cpu = [time.split(\" + \") for time in tab_final_jarvis[\"temps cpu\"]]\n",
    "time_cpu = [conv_time_dtf(time) for time in time_cpu]\n",
    "tab_final_jarvis[\"temps cpu\"] = [\" + \".join(time) for time in time_cpu]\n",
    "tab_final_jarvis = tab_final_jarvis.rename(columns={\"temps cpu\": \"temps cpu (h)\"})\n",
    "tab_final_jarvis"
   ]
  },
  {
   "cell_type": "code",
   "execution_count": null,
   "id": "3721391a-d7b6-4470-ba99-44acdb2d0d5a",
   "metadata": {},
   "outputs": [],
   "source": [
    "tab_final_jarvis.to_csv(\"tab_final_jarvis.csv\", index=None)"
   ]
  },
  {
   "cell_type": "markdown",
   "id": "6c43d8d5-f0c3-4860-8d95-9aebd3cb831f",
   "metadata": {},
   "source": [
    "## BCL-CONVERT"
   ]
  },
  {
   "cell_type": "code",
   "execution_count": 9,
   "id": "56c7f199-89ed-4b51-9b32-48d7ba033490",
   "metadata": {},
   "outputs": [],
   "source": [
    "bcl_convert = pd.read_csv(\"result_bcl-convert.csv\")"
   ]
  },
  {
   "cell_type": "code",
   "execution_count": 10,
   "id": "393e1fb2-dd3f-4b2f-90af-74817c403feb",
   "metadata": {},
   "outputs": [
    {
     "data": {
      "text/html": [
       "<div>\n",
       "<style scoped>\n",
       "    .dataframe tbody tr th:only-of-type {\n",
       "        vertical-align: middle;\n",
       "    }\n",
       "\n",
       "    .dataframe tbody tr th {\n",
       "        vertical-align: top;\n",
       "    }\n",
       "\n",
       "    .dataframe thead th {\n",
       "        text-align: right;\n",
       "    }\n",
       "</style>\n",
       "<table border=\"1\" class=\"dataframe\">\n",
       "  <thead>\n",
       "    <tr style=\"text-align: right;\">\n",
       "      <th></th>\n",
       "      <th>type run</th>\n",
       "      <th>param utilisé</th>\n",
       "      <th>temps écoulé (h)</th>\n",
       "      <th>temps cpu</th>\n",
       "      <th>utilisation cpu (%)</th>\n",
       "      <th>mémoire utilisé (Gb)</th>\n",
       "    </tr>\n",
       "  </thead>\n",
       "  <tbody>\n",
       "    <tr>\n",
       "      <th>0</th>\n",
       "      <td>JARVIS</td>\n",
       "      <td>p8 r8 w8</td>\n",
       "      <td>04:03:46 + 04:01:15</td>\n",
       "      <td>81043.66 + 86491.64</td>\n",
       "      <td>69.25 + 74.63</td>\n",
       "      <td>13.563916 + 22.383716</td>\n",
       "    </tr>\n",
       "    <tr>\n",
       "      <th>1</th>\n",
       "      <td>JARVIS</td>\n",
       "      <td>p12 r12 w12</td>\n",
       "      <td>02:54:04 + 02:56:50</td>\n",
       "      <td>96397.79 + 108461.85</td>\n",
       "      <td>76.83 + 85.17</td>\n",
       "      <td>16.297744 + 24.742460</td>\n",
       "    </tr>\n",
       "    <tr>\n",
       "      <th>2</th>\n",
       "      <td>JARVIS</td>\n",
       "      <td>p16 r16 w16</td>\n",
       "      <td>02:43:45 + 02:28:32</td>\n",
       "      <td>99892.88 + 85732.81</td>\n",
       "      <td>63.5 + 60.06</td>\n",
       "      <td>15.500356 + 20.536340</td>\n",
       "    </tr>\n",
       "  </tbody>\n",
       "</table>\n",
       "</div>"
      ],
      "text/plain": [
       "  type run param utilisé     temps écoulé (h)             temps cpu  \\\n",
       "0   JARVIS      p8 r8 w8  04:03:46 + 04:01:15   81043.66 + 86491.64   \n",
       "1   JARVIS   p12 r12 w12  02:54:04 + 02:56:50  96397.79 + 108461.85   \n",
       "2   JARVIS   p16 r16 w16  02:43:45 + 02:28:32   99892.88 + 85732.81   \n",
       "\n",
       "  utilisation cpu (%)   mémoire utilisé (Gb)  \n",
       "0       69.25 + 74.63  13.563916 + 22.383716  \n",
       "1       76.83 + 85.17  16.297744 + 24.742460  \n",
       "2        63.5 + 60.06  15.500356 + 20.536340  "
      ]
     },
     "execution_count": 10,
     "metadata": {},
     "output_type": "execute_result"
    }
   ],
   "source": [
    "bcl_convert"
   ]
  },
  {
   "cell_type": "code",
   "execution_count": 11,
   "id": "e27de908-7a3b-4f72-aaaa-9b56e4e6c984",
   "metadata": {},
   "outputs": [],
   "source": [
    "time_jarvis = [bcl_convert[\"temps écoulé (h)\"][i][:] for i in range(len(bcl_convert))]\n",
    "time_jarvis = [time.split(\" + \") for time in time_jarvis]\n",
    "time_jarvis_1 = [time[0] for time in time_jarvis]\n",
    "time_jarvis_2 = [time[1] for time in time_jarvis]\n",
    "time_jarvis_1 = [(float(time[0:2]) + float(time[3:5])/60) for time in time_jarvis_1]\n",
    "time_jarvis_2 = [(float(time[0:2]) + float(time[3:5])/60) for time in time_jarvis_2]\n",
    "time_jarvis_sum = np.array(time_jarvis_1) + np.array(time_jarvis_2)\n",
    "\n",
    "cpu_jarvis = [bcl_convert[\"utilisation cpu (%)\"][i] for i in range(len(bcl_convert))]\n",
    "cpu_jarvis = [cpu_perc.split(\" + \") for cpu_perc in cpu_jarvis]\n",
    "cpu_jarvis_1 = [float(time[0]) for time in cpu_jarvis]\n",
    "cpu_jarvis_2 = [float(time[1]) for time in cpu_jarvis]\n",
    "cpu_jarvis_sum = (np.array(cpu_jarvis_1) + np.array(cpu_jarvis_2))/2\n",
    "\n",
    "cpu_time_jarvis = [bcl_convert[\"temps cpu\"][i] for i in range(len(bcl_convert))]\n",
    "cpu_time_jarvis = [cpu_time.split(\" + \") for cpu_time in cpu_time_jarvis]\n",
    "cpu_time_jarvis_1 = np.array([float(cpu_time[0]) for cpu_time in cpu_time_jarvis])/3600\n",
    "cpu_time_jarvis_2 = np.array([float(cpu_time[1]) for cpu_time in cpu_time_jarvis])/3600\n",
    "cpu_time_jarvis_sum = cpu_time_jarvis_1 + cpu_time_jarvis_2"
   ]
  },
  {
   "cell_type": "markdown",
   "id": "09db66e8-0b30-4636-a479-0e8899953434",
   "metadata": {
    "tags": []
   },
   "source": [
    "### Barplot cummulé pour les deux run JARVIS"
   ]
  },
  {
   "cell_type": "code",
   "execution_count": 15,
   "id": "8d488890-44f8-4f78-b617-1087cf6c34e0",
   "metadata": {},
   "outputs": [
    {
     "data": {
      "image/png": "[encoded data removed]",
      "text/plain": [
       "<Figure size 1944x576 with 3 Axes>"
      ]
     },
     "metadata": {},
     "output_type": "display_data"
    }
   ],
   "source": [
    "sns.set_style(\"darkgrid\", {\"grid.color\": \".4\", \"grid.linestyle\": \":\"})\n",
    "fig, ax = plt.subplots(nrows=1, ncols=3, figsize=(27, 8))\n",
    "ax = ax.ravel()\n",
    "labels = [\"8\", \"12\", \"16\"]\n",
    "plt.rc(\"font\", size=15)\n",
    "\n",
    "bar1 = ax[0].bar(labels, time_jarvis_1, label=\"jarvis (Sample sheet 6)\")\n",
    "bar2 = ax[0].bar(labels, time_jarvis_2, bottom=time_jarvis_1, label=\"jarvis (Sample sheet 8-8)\")\n",
    "ax[0].set_title(\"Barplot du temps total en fonction \\n du nombre de coeurs utilisés et des paramètres\")\n",
    "ax[0].set_xlabel(\"p = r = w = nombre de coeurs\")\n",
    "ax[0].set_ylabel(\"temps (h)\")\n",
    "ax[0].bar_label(bar1, padding=-20, fmt=\"%.2f\", color=\"white\")\n",
    "ax[0].bar_label(bar2, labels=np.round(time_jarvis_2, 2), padding=-20, fmt=\"%.2f\", color=\"white\")\n",
    "ax[0].bar_label(bar2, labels=np.round(time_jarvis_sum, 2), padding=5, fmt=\"%.2f\", color=\"red\")\n",
    "ax[0].legend(loc=4)\n",
    "\n",
    "bar3 = ax[1].bar(labels, cpu_time_jarvis_1, label=\"jarvis (Sample sheet 6)\")\n",
    "bar4 = ax[1].bar(labels, cpu_time_jarvis_2, bottom=cpu_time_jarvis_1, label=\"jarvis (Sample sheet 8-8)\")\n",
    "ax[1].set_title(\"Barplot du temps cpu écoulé en fonction \\n du nombre de coeurs utilisés et des paramètres\")\n",
    "ax[1].set_xlabel(\"p = r = w = nombre de coeurs\")\n",
    "ax[1].set_ylabel(\"temps (h)\")\n",
    "ax[1].bar_label(bar3, padding=-20, fmt=\"%.2f\", color=\"white\")\n",
    "ax[1].bar_label(bar4, labels=np.round(cpu_time_jarvis_2, 2), padding=-20, fmt=\"%.2f\", color=\"white\")\n",
    "ax[1].bar_label(bar4, labels=np.round(cpu_time_jarvis_sum, 2), padding=5, fmt=\"%.2f\", color=\"red\")\n",
    "ax[1].legend(loc=4)\n",
    "\n",
    "bar5 = ax[2].bar(labels, cpu_jarvis_1, label=\"jarvis (Sample sheet 6)\")\n",
    "bar6 = ax[2].bar(labels, cpu_jarvis_2, bottom=cpu_jarvis_1, label=\"jarvis (Sample sheet 8-8)\")\n",
    "ax[2].set_title(\"Barplot du pourcentage d'utilisation du cpu \\n  en fonction du nombre de coeurs utilisés et des paramètres\")\n",
    "ax[2].set_xlabel(\"p = r = w = nombre de coeurs\")\n",
    "ax[2].set_ylabel(\"pourcentage d'utilisation du cpu (%)\")\n",
    "ax[2].bar_label(bar5, padding=-20, fmt=\"%.2f\", color=\"white\")\n",
    "ax[2].bar_label(bar6, labels=np.round(cpu_jarvis_2, 2), padding=-20, fmt=\"%.2f\", color=\"white\")\n",
    "ax[2].bar_label(bar6, labels=np.round(cpu_jarvis_sum, 2), padding=5, fmt=\"%.2f\", color=\"red\")\n",
    "ax[2].legend(loc=4)\n",
    "\n",
    "plt.savefig(\"img/barplot_cum_bcl-convert.png\", transparent=False);"
   ]
  },
  {
   "cell_type": "code",
   "execution_count": null,
   "id": "7446cfbd-a8e9-4576-9340-2c4814310ba3",
   "metadata": {},
   "outputs": [],
   "source": []
  },
  {
   "cell_type": "code",
   "execution_count": null,
   "id": "e57a35e7-bf29-4159-95dd-1a5f3062255c",
   "metadata": {},
   "outputs": [],
   "source": []
  },
  {
   "cell_type": "code",
   "execution_count": null,
   "id": "db7bb20a-e549-4001-9e3d-7166e0fb5ca9",
   "metadata": {},
   "outputs": [],
   "source": []
  }
 ],
 "metadata": {
  "kernelspec": {
   "display_name": "Python 3 (ipykernel)",
   "language": "python",
   "name": "python3"
  },
  "language_info": {
   "codemirror_mode": {
    "name": "ipython",
    "version": 3
   },
   "file_extension": ".py",
   "mimetype": "text/x-python",
   "name": "python",
   "nbconvert_exporter": "python",
   "pygments_lexer": "ipython3",
   "version": "3.9.7"
  }
 },
 "nbformat": 4,
 "nbformat_minor": 5
}
