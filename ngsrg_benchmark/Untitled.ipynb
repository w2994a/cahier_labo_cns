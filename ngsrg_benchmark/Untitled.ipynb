{
 "cells": [
  {
   "cell_type": "code",
   "execution_count": 1,
   "id": "6e0d3b89-6579-493a-9e8a-4c2bd721772a",
   "metadata": {},
   "outputs": [],
   "source": [
    "import pandas as pd\n",
    "import numpy as np\n",
    "from scipy.stats import pearsonr\n",
    "import matplotlib.pyplot as plt\n",
    "import seaborn as sns\n",
    "\n",
    "import convert_time as ct"
   ]
  },
  {
   "cell_type": "code",
   "execution_count": 2,
   "id": "b0f6f4ab-6151-4312-9e27-4738b76d756c",
   "metadata": {},
   "outputs": [],
   "source": [
    "dtf = pd.read_csv(\"benchmark_ngsrg_mgi_lite.csv\", sep=\",\")\n",
    "dtf = dtf.dropna()"
   ]
  },
  {
   "cell_type": "code",
   "execution_count": 3,
   "id": "28ad7c4b-3b70-4b6c-8367-9faf49262680",
   "metadata": {},
   "outputs": [
    {
     "data": {
      "text/html": [
       "<div>\n",
       "<style scoped>\n",
       "    .dataframe tbody tr th:only-of-type {\n",
       "        vertical-align: middle;\n",
       "    }\n",
       "\n",
       "    .dataframe tbody tr th {\n",
       "        vertical-align: top;\n",
       "    }\n",
       "\n",
       "    .dataframe thead th {\n",
       "        text-align: right;\n",
       "    }\n",
       "</style>\n",
       "<table border=\"1\" class=\"dataframe\">\n",
       "  <thead>\n",
       "    <tr style=\"text-align: right;\">\n",
       "      <th></th>\n",
       "      <th>Run</th>\n",
       "      <th>TypeRun</th>\n",
       "      <th>LenRead</th>\n",
       "      <th>Time</th>\n",
       "      <th>Memory</th>\n",
       "      <th>MemoryRun</th>\n",
       "      <th>#Barcode</th>\n",
       "    </tr>\n",
       "  </thead>\n",
       "  <tbody>\n",
       "    <tr>\n",
       "      <th>0</th>\n",
       "      <td>2</td>\n",
       "      <td>PE</td>\n",
       "      <td>100</td>\n",
       "      <td>02:15:11</td>\n",
       "      <td>782.0</td>\n",
       "      <td>302.0</td>\n",
       "      <td>27.0</td>\n",
       "    </tr>\n",
       "    <tr>\n",
       "      <th>1</th>\n",
       "      <td>3</td>\n",
       "      <td>PE</td>\n",
       "      <td>150</td>\n",
       "      <td>01:03:37</td>\n",
       "      <td>387.0</td>\n",
       "      <td>153.0</td>\n",
       "      <td>12.0</td>\n",
       "    </tr>\n",
       "    <tr>\n",
       "      <th>3</th>\n",
       "      <td>5</td>\n",
       "      <td>PE</td>\n",
       "      <td>200</td>\n",
       "      <td>04:19:14</td>\n",
       "      <td>1300.0</td>\n",
       "      <td>565.0</td>\n",
       "      <td>30.0</td>\n",
       "    </tr>\n",
       "    <tr>\n",
       "      <th>4</th>\n",
       "      <td>6</td>\n",
       "      <td>SR</td>\n",
       "      <td>400</td>\n",
       "      <td>03:41:25</td>\n",
       "      <td>1200.0</td>\n",
       "      <td>582.0</td>\n",
       "      <td>32.0</td>\n",
       "    </tr>\n",
       "    <tr>\n",
       "      <th>5</th>\n",
       "      <td>11</td>\n",
       "      <td>PE</td>\n",
       "      <td>100</td>\n",
       "      <td>02:06:16</td>\n",
       "      <td>876.0</td>\n",
       "      <td>288.0</td>\n",
       "      <td>31.0</td>\n",
       "    </tr>\n",
       "  </tbody>\n",
       "</table>\n",
       "</div>"
      ],
      "text/plain": [
       "   Run TypeRun  LenRead      Time  Memory  MemoryRun  #Barcode\n",
       "0    2      PE      100  02:15:11   782.0      302.0      27.0\n",
       "1    3      PE      150  01:03:37   387.0      153.0      12.0\n",
       "3    5      PE      200  04:19:14  1300.0      565.0      30.0\n",
       "4    6      SR      400  03:41:25  1200.0      582.0      32.0\n",
       "5   11      PE      100  02:06:16   876.0      288.0      31.0"
      ]
     },
     "execution_count": 3,
     "metadata": {},
     "output_type": "execute_result"
    }
   ],
   "source": [
    "dtf"
   ]
  },
  {
   "cell_type": "markdown",
   "id": "7a7368ac-3668-45bb-aa21-57783311ac93",
   "metadata": {
    "tags": []
   },
   "source": [
    "# Prédiction du temps du pipepeline NGSRG MGI\n",
    "prédiction du temps que va mettre le pipeline NGSRG MGI à partir de 4 variables (le type de run (PE, SE), la longueur des reads, le nombre de barcodes attendus et la taille du répertoire de run."
   ]
  },
  {
   "cell_type": "code",
   "execution_count": 4,
   "id": "62163db8-88e9-40a7-b5b7-b1bb143a21d6",
   "metadata": {},
   "outputs": [],
   "source": [
    "list_type_run = []\n",
    "for type_run in dtf[\"TypeRun\"]:\n",
    "    if type_run == \"PE\":\n",
    "        list_type_run.append(2)\n",
    "    else:\n",
    "        list_type_run.append(1)\n",
    "\n",
    "list_time = [time.split(\":\") for time in dtf[\"Time\"]]\n",
    "list_time = [ct.convert_time2(int(time[2]), int(time[1]), int(time[0]), 0, \"h\") for time in list_time]"
   ]
  },
  {
   "cell_type": "code",
   "execution_count": 5,
   "id": "d87f1981-037d-4443-8841-eeb1c78f084d",
   "metadata": {},
   "outputs": [],
   "source": [
    "array_var = [np.array(list_type_run),  np.array(dtf[\"LenRead\"]), np.array(dtf[\"#Barcode\"]), np.array(dtf[\"MemoryRun\"])]"
   ]
  },
  {
   "cell_type": "code",
   "execution_count": 6,
   "id": "8986674b-456b-4823-928a-063ad7339193",
   "metadata": {},
   "outputs": [],
   "source": [
    "array_var = np.array(array_var).T"
   ]
  },
  {
   "cell_type": "code",
   "execution_count": 7,
   "id": "63a2b344-61a6-48d7-920b-b3dcb2b00bb7",
   "metadata": {},
   "outputs": [
    {
     "data": {
      "text/plain": [
       "(array([ 0.16655549, -0.00283176, -0.01779989,  0.00900192]),\n",
       " array([0.00141117]),\n",
       " 4,\n",
       " array([1038.58076328,  151.21526722,   16.20851413,    1.4917043 ]))"
      ]
     },
     "execution_count": 7,
     "metadata": {},
     "output_type": "execute_result"
    }
   ],
   "source": [
    "np.linalg.lstsq(array_var, list_time, rcond=None)"
   ]
  },
  {
   "cell_type": "code",
   "execution_count": 8,
   "id": "e8830021-3c57-4c4e-986b-a6e3e1bf3d5a",
   "metadata": {},
   "outputs": [
    {
     "data": {
      "text/plain": [
       "(0.166555486924637,\n",
       " -0.0028317564807529244,\n",
       " -0.017799892164072312,\n",
       " 0.009001916052716216)"
      ]
     },
     "execution_count": 8,
     "metadata": {},
     "output_type": "execute_result"
    }
   ],
   "source": [
    "a, b, c, d = np.linalg.lstsq(array_var, list_time, rcond=None)[0]\n",
    "a, b, c, d"
   ]
  },
  {
   "cell_type": "code",
   "execution_count": 9,
   "id": "bfb77b80-6d33-4e06-9421-7f5fd1669e1d",
   "metadata": {},
   "outputs": [],
   "source": [
    "time_pred = np.array(list_type_run) * a +  np.array(dtf[\"LenRead\"]) * b +  \\\n",
    "            np.array(dtf[\"#Barcode\"]) * c + (np.array(dtf[\"MemoryRun\"])) * d"
   ]
  },
  {
   "cell_type": "code",
   "execution_count": 10,
   "id": "f8aa1c33-b2ff-48f0-ba91-db4d9336c3b9",
   "metadata": {},
   "outputs": [
    {
     "data": {
      "text/plain": [
       "array([2.28791689, 1.07204195, 4.31884548, 3.70337149, 2.09069049])"
      ]
     },
     "execution_count": 10,
     "metadata": {},
     "output_type": "execute_result"
    }
   ],
   "source": [
    "time_pred"
   ]
  },
  {
   "cell_type": "code",
   "execution_count": 11,
   "id": "24a3b4b8-ffa8-4e38-b4f6-23e09b81f845",
   "metadata": {},
   "outputs": [
    {
     "data": {
      "image/png": "[encoded data removed]",
      "text/plain": [
       "<Figure size 1296x576 with 1 Axes>"
      ]
     },
     "metadata": {},
     "output_type": "display_data"
    }
   ],
   "source": [
    "sns.set_theme(style=\"darkgrid\")\n",
    "sns.set_style({\"grid.color\": \".4\", \"grid.linestyle\": \":\"})\n",
    "plt.figure(figsize=(18, 8))\n",
    "bar1 = plt.bar(list(range(1,6)),list_time, label=\"original time\",  align=\"edge\", width=-0.4)\n",
    "plt.bar_label(bar1, padding=-20, fmt=\"%.2f\", color=\"white\")\n",
    "bar2 = plt.bar(list(range(1,6)), time_pred, label=\"predict time\",  align=\"edge\", width=0.4)\n",
    "plt.bar_label(bar2, padding=-20, fmt=\"%.2f\", color=\"white\")\n",
    "plt.xlabel(\"Run\")\n",
    "plt.ylabel(\"Time (h)\")\n",
    "plt.legend();"
   ]
  },
  {
   "cell_type": "markdown",
   "id": "20c58df7-e19c-44af-8d83-258a973e171b",
   "metadata": {},
   "source": [
    "## Prédiction de la mémoire utilisé pour le run run 12 (flowcell \"V350062820\")"
   ]
  },
  {
   "cell_type": "code",
   "execution_count": 12,
   "id": "141436fe-affd-46b2-98ec-574cf2fb26d7",
   "metadata": {},
   "outputs": [
    {
     "data": {
      "text/plain": [
       "2.20689964078988"
      ]
     },
     "execution_count": 12,
     "metadata": {},
     "output_type": "execute_result"
    }
   ],
   "source": [
    "2 * a +  100 * b +  27 * c + 293 * d"
   ]
  },
  {
   "cell_type": "markdown",
   "id": "45f66ace-658c-450b-b684-4951d55bcd89",
   "metadata": {
    "tags": []
   },
   "source": [
    "# Prédiction de la mémoire utilisé par le pipepeline NGSRG MGI dans le répertoire RG_IN_PROCESS\n",
    "prédiction de la mémoire que le pipeline NGSRG MGI va utilisé pour le run dans le répertoire RG8IN8PROCESS à partir de 4 variables (le type de run (PE, SE), la longueur des reads, le nombre de barcodes attendus et la taille du répertoire de run."
   ]
  },
  {
   "cell_type": "code",
   "execution_count": 13,
   "id": "aafdcda0-ff3d-443b-a90a-a79eea07dd4c",
   "metadata": {},
   "outputs": [],
   "source": [
    "list_memory = np.array(dtf[\"Memory\"])"
   ]
  },
  {
   "cell_type": "code",
   "execution_count": 14,
   "id": "ac3e3115-7661-471d-b5b5-374ed5bee5fd",
   "metadata": {},
   "outputs": [],
   "source": [
    "array_var = [np.array(list_type_run),  np.array(dtf[\"LenRead\"]), np.array(dtf[\"#Barcode\"]), np.array(dtf[\"MemoryRun\"])]"
   ]
  },
  {
   "cell_type": "code",
   "execution_count": 15,
   "id": "ca2276f5-8a24-4893-8b05-e7902db8a4de",
   "metadata": {},
   "outputs": [],
   "source": [
    "array_var = np.array(array_var).T"
   ]
  },
  {
   "cell_type": "code",
   "execution_count": 16,
   "id": "bf7cd32d-1165-48f4-bacf-7c5f8b1ccce8",
   "metadata": {},
   "outputs": [
    {
     "data": {
      "text/plain": [
       "(array([30.16593998, -0.52404267,  9.97501597,  1.82896789]),\n",
       " array([3487.89386775]),\n",
       " 4,\n",
       " array([1038.58076328,  151.21526722,   16.20851413,    1.4917043 ]))"
      ]
     },
     "execution_count": 16,
     "metadata": {},
     "output_type": "execute_result"
    }
   ],
   "source": [
    "np.linalg.lstsq(array_var, list_memory, rcond=None)"
   ]
  },
  {
   "cell_type": "code",
   "execution_count": 17,
   "id": "7f536d8c-76f5-463b-b60a-22ad72cf2c9c",
   "metadata": {},
   "outputs": [
    {
     "data": {
      "text/plain": [
       "(30.165939977709485,\n",
       " -0.5240426735684072,\n",
       " 9.975015966462966,\n",
       " 1.8289678944690886)"
      ]
     },
     "execution_count": 17,
     "metadata": {},
     "output_type": "execute_result"
    }
   ],
   "source": [
    "a, b, c, d = np.linalg.lstsq(array_var, list_memory, rcond=None)[0]\n",
    "a, b, c, d"
   ]
  },
  {
   "cell_type": "code",
   "execution_count": 18,
   "id": "0a6e073a-c243-4b74-9ebe-b538bca51d56",
   "metadata": {},
   "outputs": [],
   "source": [
    "memory_pred = np.array(list_type_run) * a +  np.array(dtf[\"LenRead\"]) * b +  \\\n",
    "              np.array(dtf[\"#Barcode\"]) * c + (np.array(dtf[\"MemoryRun\"])) * d"
   ]
  },
  {
   "cell_type": "code",
   "execution_count": 19,
   "id": "22bdbdf8-7a12-4c66-91fe-4c2ed40151e7",
   "metadata": {},
   "outputs": [
    {
     "data": {
      "text/plain": [
       "array([ 829.60134782,  381.25775837, 1288.14068461, 1204.20869606,\n",
       "        843.89586117])"
      ]
     },
     "execution_count": 19,
     "metadata": {},
     "output_type": "execute_result"
    }
   ],
   "source": [
    "memory_pred"
   ]
  },
  {
   "cell_type": "code",
   "execution_count": 20,
   "id": "4704e51a-9f5e-4d9c-a4b5-2efb19fb62b9",
   "metadata": {},
   "outputs": [
    {
     "data": {
      "image/png": "[encoded data removed]",
      "text/plain": [
       "<Figure size 1296x576 with 1 Axes>"
      ]
     },
     "metadata": {},
     "output_type": "display_data"
    }
   ],
   "source": [
    "plt.figure(figsize=(18, 8))\n",
    "bar1 = plt.bar(list(range(1,6)),list_memory, label=\"original memory of RG diretory\",  align=\"edge\", width=-0.4)\n",
    "plt.bar_label(bar1, padding=-20, fmt=\"%.2f\", color=\"white\")\n",
    "bar2 = plt.bar(list(range(1,6)), memory_pred, label=\"predict memory of RG directory\",  align=\"edge\", width=0.4)\n",
    "plt.bar_label(bar2, padding=-20, fmt=\"%.2f\", color=\"white\")\n",
    "plt.xlabel(\"Run\")\n",
    "plt.ylabel(\"Memory (Go)\")\n",
    "plt.legend();"
   ]
  },
  {
   "cell_type": "markdown",
   "id": "bd9c1493-5360-4c98-a705-091a51e40beb",
   "metadata": {},
   "source": [
    "## Prédiction de la mémoire utilisé pour le run run 12 (flowcell \"V350062820\")"
   ]
  },
  {
   "cell_type": "code",
   "execution_count": 22,
   "id": "753586c0-844f-4046-b4a4-37633d95db5d",
   "metadata": {},
   "outputs": [
    {
     "data": {
      "text/plain": [
       "813.1406367725212"
      ]
     },
     "execution_count": 22,
     "metadata": {},
     "output_type": "execute_result"
    }
   ],
   "source": [
    "2 * a +  100 * b +  27 * c + 293 * d"
   ]
  },
  {
   "cell_type": "code",
   "execution_count": null,
   "id": "057e6729-25a6-4c26-89ca-db4d6a2d44f1",
   "metadata": {},
   "outputs": [],
   "source": []
  }
 ],
 "metadata": {
  "kernelspec": {
   "display_name": "Python 3 (ipykernel)",
   "language": "python",
   "name": "python3"
  },
  "language_info": {
   "codemirror_mode": {
    "name": "ipython",
    "version": 3
   },
   "file_extension": ".py",
   "mimetype": "text/x-python",
   "name": "python",
   "nbconvert_exporter": "python",
   "pygments_lexer": "ipython3",
   "version": "3.9.7"
  }
 },
 "nbformat": 4,
 "nbformat_minor": 5
}
